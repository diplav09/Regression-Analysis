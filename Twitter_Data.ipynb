{
 "cells": [
  {
   "cell_type": "code",
   "execution_count": 1,
   "id": "a3959295",
   "metadata": {},
   "outputs": [],
   "source": [
    "import numpy as np\n",
    "import matplotlib.pyplot as plt\n",
    "import os\n",
    "import pandas as pd\n",
    "import json\n",
    "import datetime\n",
    "import pytz\n",
    "import gc\n",
    "from textblob import TextBlob\n",
    "from datetime import date"
   ]
  },
  {
   "cell_type": "code",
   "execution_count": 2,
   "id": "ea3ac9ab",
   "metadata": {},
   "outputs": [
    {
     "name": "stderr",
     "output_type": "stream",
     "text": [
      "/Users/diplavsrivastava/opt/anaconda3/envs/ECE219_1/lib/python3.10/site-packages/tqdm/auto.py:22: TqdmWarning: IProgress not found. Please update jupyter and ipywidgets. See https://ipywidgets.readthedocs.io/en/stable/user_install.html\n",
      "  from .autonotebook import tqdm as notebook_tqdm\n"
     ]
    }
   ],
   "source": [
    "from vaderSentiment.vaderSentiment import SentimentIntensityAnalyzer\n",
    "from sklearn.feature_extraction.text import CountVectorizer\n",
    "from sklearn.feature_extraction.text import TfidfTransformer\n",
    "from nltk.stem import WordNetLemmatizer\n",
    "from nltk.stem import PorterStemmer\n",
    "from nltk.corpus import wordnet\n",
    "from nltk.corpus import stopwords\n",
    "from sklearn.feature_extraction import text\n",
    "import nltk\n",
    "import re\n",
    "from scipy.signal import find_peaks\n",
    "\n",
    "from summarizers import Summarizers\n"
   ]
  },
  {
   "cell_type": "code",
   "execution_count": 3,
   "id": "baba7602",
   "metadata": {},
   "outputs": [
    {
     "name": "stderr",
     "output_type": "stream",
     "text": [
      "The tokenizer class you load from this checkpoint is not the same type as the class this function is called from. It may result in unexpected tokenization. \n",
      "The tokenizer class you load from this checkpoint is 'BartTokenizer'. \n",
      "The class this function is called from is 'PreTrainedTokenizerFast'.\n"
     ]
    }
   ],
   "source": [
    "summarize = Summarizers('normal')"
   ]
  },
  {
   "cell_type": "code",
   "execution_count": 4,
   "id": "a0a0ab40",
   "metadata": {},
   "outputs": [],
   "source": [
    "tweet_path = '../ECE219_tweet_data/'\n",
    "pst_tz = pytz.timezone('America/Los_Angeles')"
   ]
  },
  {
   "cell_type": "markdown",
   "id": "1f1e1e05",
   "metadata": {},
   "source": [
    "### Q9.1) Report the following statistics for each hashtag"
   ]
  },
  {
   "cell_type": "code",
   "execution_count": 5,
   "id": "5a96f9be",
   "metadata": {},
   "outputs": [],
   "source": [
    "def get_avg_tweet_per_hour(data):\n",
    "    df = pd.DataFrame(data,columns=['timestamp'])\n",
    "    group = df.groupby(pd.Grouper(key = 'timestamp',freq = '60min'))\n",
    "    avg_tweet = len(data) / len(group)\n",
    "    return avg_tweet\n",
    "\n",
    "def get_avg_follower_per_tweet(data):\n",
    "    return np.mean(data)\n",
    "\n",
    "def get_avg_retweet_per_tweet(data):\n",
    "    return np.mean(data)\n",
    "\n",
    "def get_statistics(file):\n",
    "    time = []\n",
    "    num_retweet = []\n",
    "    num_follower = []\n",
    "    for line in open(file):\n",
    "        json_object = json.loads(line)\n",
    "        time.append(datetime.datetime.fromtimestamp(json_object['citation_date']))\n",
    "        num_retweet.append(json_object['metrics']['citations']['total'])\n",
    "        num_follower.append(json_object['author']['followers'])\n",
    "    avg_tweets = get_avg_tweet_per_hour(time)\n",
    "    avg_follower = get_avg_follower_per_tweet(num_follower)\n",
    "    avg_retweet = get_avg_retweet_per_tweet(num_retweet)\n",
    "    return avg_tweets, avg_follower, avg_retweet"
   ]
  },
  {
   "cell_type": "code",
   "execution_count": 6,
   "id": "f61a0eb2",
   "metadata": {},
   "outputs": [
    {
     "name": "stdout",
     "output_type": "stream",
     "text": [
      "Average number of tweets per hour #goHwaks:  292.09326424870466\n",
      "Average number of followers of users posting tweet #goHwaks:  2217.9237355281984\n",
      "Average number of retweets per tweet #goHwaks:  2.0132093991319877\n"
     ]
    }
   ],
   "source": [
    "filename = os.path.join(tweet_path, 'tweets_#gohawks.txt')\n",
    "\n",
    "avg_tweets, avg_follower, avg_retweet = get_statistics(filename)\n",
    "\n",
    "print(\"Average number of tweets per hour #goHwaks: \", avg_tweets)\n",
    "print(\"Average number of followers of users posting tweet #goHwaks: \", avg_follower)\n",
    "print(\"Average number of retweets per tweet #goHwaks: \", avg_retweet)"
   ]
  },
  {
   "cell_type": "code",
   "execution_count": 7,
   "id": "8f66d633",
   "metadata": {},
   "outputs": [
    {
     "name": "stdout",
     "output_type": "stream",
     "text": [
      "Average number of tweets per hour #gopatriots:  40.888695652173915\n",
      "Average number of followers of users posting tweet #gopatriots:  1427.2526051635405\n",
      "Average number of retweets per tweet #gopatriots:  1.4081919101697078\n"
     ]
    }
   ],
   "source": [
    "filename = os.path.join(tweet_path, 'tweets_#gopatriots.txt')\n",
    "\n",
    "avg_tweets, avg_follower, avg_retweet = get_statistics(filename)\n",
    "\n",
    "print(\"Average number of tweets per hour #gopatriots: \", avg_tweets)\n",
    "print(\"Average number of followers of users posting tweet #gopatriots: \", avg_follower)\n",
    "print(\"Average number of retweets per tweet #gopatriots: \", avg_retweet)"
   ]
  },
  {
   "cell_type": "code",
   "execution_count": 8,
   "id": "caaec031",
   "metadata": {},
   "outputs": [
    {
     "name": "stdout",
     "output_type": "stream",
     "text": [
      "Average number of tweets per hour #nfl:  396.97103918228277\n",
      "Average number of followers of users posting tweet #nfl:  4662.37544523693\n",
      "Average number of retweets per tweet #nfl:  1.5344602655543254\n"
     ]
    }
   ],
   "source": [
    "filename = os.path.join(tweet_path, 'tweets_#nfl.txt')\n",
    "\n",
    "avg_tweets, avg_follower, avg_retweet = get_statistics(filename)\n",
    "\n",
    "print(\"Average number of tweets per hour #nfl: \", avg_tweets)\n",
    "print(\"Average number of followers of users posting tweet #nfl: \", avg_follower)\n",
    "print(\"Average number of retweets per tweet #nfl: \", avg_retweet)"
   ]
  },
  {
   "cell_type": "code",
   "execution_count": 9,
   "id": "2e3611c0",
   "metadata": {},
   "outputs": [
    {
     "name": "stdout",
     "output_type": "stream",
     "text": [
      "Average number of tweets per hour #patriots:  750.6320272572402\n",
      "Average number of followers of users posting tweet #patriots:  3280.4635616550277\n",
      "Average number of retweets per tweet #patriots:  1.7852871288476946\n"
     ]
    }
   ],
   "source": [
    "\n",
    "filename = os.path.join(tweet_path, 'tweets_#patriots.txt')\n",
    "\n",
    "avg_tweets, avg_follower, avg_retweet = get_statistics(filename)\n",
    "\n",
    "print(\"Average number of tweets per hour #patriots: \", avg_tweets)\n",
    "print(\"Average number of followers of users posting tweet #patriots: \", avg_follower)\n",
    "print(\"Average number of retweets per tweet #patriots: \", avg_retweet)"
   ]
  },
  {
   "cell_type": "code",
   "execution_count": 10,
   "id": "35ad0cc2",
   "metadata": {},
   "outputs": [
    {
     "name": "stdout",
     "output_type": "stream",
     "text": [
      "Average number of tweets per hour #sb49:  1275.5557461406518\n",
      "Average number of followers of users posting tweet #sb49:  10374.160292019487\n",
      "Average number of retweets per tweet #sb49:  2.52713444111402\n"
     ]
    }
   ],
   "source": [
    "filename = os.path.join(tweet_path, 'tweets_#sb49.txt')\n",
    "\n",
    "avg_tweets, avg_follower, avg_retweet = get_statistics(filename)\n",
    "\n",
    "print(\"Average number of tweets per hour #sb49: \", avg_tweets)\n",
    "print(\"Average number of followers of users posting tweet #sb49: \", avg_follower)\n",
    "print(\"Average number of retweets per tweet #sb49: \", avg_retweet)"
   ]
  },
  {
   "cell_type": "code",
   "execution_count": 11,
   "id": "67f51698",
   "metadata": {},
   "outputs": [
    {
     "name": "stdout",
     "output_type": "stream",
     "text": [
      "Average number of tweets per hour #superbowl:  2067.824531516184\n",
      "Average number of followers of users posting tweet #superbowl:  8814.96799424623\n",
      "Average number of retweets per tweet #superbowls:  2.3911895819207736\n"
     ]
    }
   ],
   "source": [
    "filename = os.path.join(tweet_path, 'tweets_#superbowl.txt')\n",
    "\n",
    "avg_tweets, avg_follower, avg_retweet = get_statistics(filename)\n",
    "\n",
    "print(\"Average number of tweets per hour #superbowl: \", avg_tweets)\n",
    "print(\"Average number of followers of users posting tweet #superbowl: \", avg_follower)\n",
    "print(\"Average number of retweets per tweet #superbowls: \", avg_retweet)"
   ]
  },
  {
   "cell_type": "markdown",
   "id": "c42bd6db",
   "metadata": {},
   "source": [
    "### Question 9.2) Plot “number of tweets in hour” "
   ]
  },
  {
   "cell_type": "code",
   "execution_count": 12,
   "id": "f8dfcf66",
   "metadata": {},
   "outputs": [],
   "source": [
    "def get_number_tweets_in_hours(filename):\n",
    "    citation_dates = []\n",
    "    for line in open(filename):\n",
    "        json_object = json.loads(line)\n",
    "        citation_dates.append(json_object['citation_date'])\n",
    "    dates_frame = pd.DataFrame(sorted(citation_dates), columns = ['date'])\n",
    "    dates_frame['date'] = dates_frame['date'].apply(lambda x: datetime.datetime.fromtimestamp(x))\n",
    "    dates_frame['day'] = dates_frame['date'].apply(lambda x: str(x).split(' ')[0].split('-')[2]).astype('int')\n",
    "    dates_frame['hour'] = dates_frame['date'].apply(lambda x: str(x).split(' ')[1].split(':')[0]).astype('int')\n",
    "    \n",
    "    days = dates_frame['day'].to_numpy()\n",
    "    hour = dates_frame['hour'].to_numpy()\n",
    "    tweets_cnt = []\n",
    "    k = 0\n",
    "    while True:\n",
    "        if k >= len(days):\n",
    "            break\n",
    "\n",
    "        j = k\n",
    "\n",
    "        cnt = 0\n",
    "        curr_hour = hour[j]\n",
    "        curr_day = days[j]\n",
    "        while j < len(days) and curr_hour == hour[j] and curr_day == days[j]:\n",
    "            cnt+= 1\n",
    "            j+= 1\n",
    "\n",
    "        k = j\n",
    "\n",
    "        tweets_cnt.append(cnt)\n",
    "\n",
    "        if k >= len(days):\n",
    "            break\n",
    "    return tweets_cnt\n",
    "\n"
   ]
  },
  {
   "cell_type": "code",
   "execution_count": 13,
   "id": "90bbeab9",
   "metadata": {},
   "outputs": [],
   "source": [
    "filename = os.path.join(tweet_path, 'tweets_#superbowl.txt')\n",
    "tweets_cnt_superbowl = get_number_tweets_in_hours(filename)"
   ]
  },
  {
   "cell_type": "code",
   "execution_count": 14,
   "id": "df1ba095",
   "metadata": {},
   "outputs": [
    {
     "data": {
      "text/plain": [
       "Text(0, 0.5, 'Tweets per hour')"
      ]
     },
     "execution_count": 14,
     "metadata": {},
     "output_type": "execute_result"
    },
    {
     "data": {
      "image/png": "[encoded data removed]",
      "text/plain": [
       "<Figure size 1200x600 with 1 Axes>"
      ]
     },
     "metadata": {},
     "output_type": "display_data"
    }
   ],
   "source": [
    "fig = plt.figure()\n",
    "fig.set_figwidth(12)\n",
    "fig.set_figheight(6)\n",
    "\n",
    "plt.bar(np.arange(len(tweets_cnt_superbowl)), tweets_cnt_superbowl, width=3)\n",
    "plt.title(\"Number of tweets in hour #superbowl\", size = 12)\n",
    "plt.xlabel(\"Hours\", size = 12)\n",
    "plt.ylabel(\"Tweets per hour\", size = 12)"
   ]
  },
  {
   "cell_type": "code",
   "execution_count": 15,
   "id": "acce5d01",
   "metadata": {},
   "outputs": [],
   "source": [
    "filename = os.path.join(tweet_path, 'tweets_#nfl.txt')\n",
    "tweets_cnt_nfl = get_number_tweets_in_hours(filename)"
   ]
  },
  {
   "cell_type": "code",
   "execution_count": 16,
   "id": "e0b97f6f",
   "metadata": {},
   "outputs": [
    {
     "data": {
      "text/plain": [
       "Text(0, 0.5, 'Tweets per hour')"
      ]
     },
     "execution_count": 16,
     "metadata": {},
     "output_type": "execute_result"
    },
    {
     "data": {
      "image/png": "[encoded data removed]",
      "text/plain": [
       "<Figure size 1200x600 with 1 Axes>"
      ]
     },
     "metadata": {},
     "output_type": "display_data"
    }
   ],
   "source": [
    "fig = plt.figure()\n",
    "fig.set_figwidth(12)\n",
    "fig.set_figheight(6)\n",
    "\n",
    "plt.bar(np.arange(len(tweets_cnt_nfl)), tweets_cnt_nfl, width=3)\n",
    "plt.title(\"Number of tweets in hour #nfl\", size = 12)\n",
    "plt.xlabel(\"Hours\", size = 12)\n",
    "plt.ylabel(\"Tweets per hour\", size = 12)"
   ]
  },
  {
   "cell_type": "markdown",
   "id": "da8e4eb6",
   "metadata": {},
   "source": [
    "## Question 10) Define your own task"
   ]
  },
  {
   "cell_type": "markdown",
   "id": "d35bbfa7",
   "metadata": {},
   "source": [
    "### Fan Base analysis Before, During and After the Match"
   ]
  },
  {
   "cell_type": "code",
   "execution_count": 20,
   "id": "0aff7d51",
   "metadata": {},
   "outputs": [],
   "source": [
    "patriots_roster = ['Akeem Ayers','Alan Branch','Brandon Bolden','Brandon Browner','Brandon LaFell',\n",
    " 'Brian Tyms','Bryan Stork','Cameron Fleming','Chandler Jones','Chris Jones', 'Chris White','Dan Connolly',\n",
    " 'Danny Aiken','Danny Amendola','Darius Fleming','Darrelle Revis','Devin McCourty','Donta Hightower',\n",
    " 'Duron Harmon','James Develin','James White','Jamie Collins','Jimmy Garoppolo','Joe Vellano',\n",
    " 'Jonas Gray','Jonathan Casillas','Jordan Devey','Josh Boyce','Josh Fline','Julian Edelman','Kyle Arrington',\n",
    " 'LeGarrette Blount','Logan Ryan','Malcolm Butler','Marcus Cannon','Matthew Slater','Michael Hoomanawanui',\n",
    " 'Nate Ebner','Nate Solder','Patrick Chung','Rob Gronkowski','Rob Ninkovich','Ryan Allen','Ryan Wendell',\n",
    " 'Sealver Siliga','Sebastian Vollmer','Shane Vereen','Stephen Gostkowski','Tavon Wilson','Tim Wright',\n",
    " 'Tom Brady','Vince Wilfork','Zach Moore']"
   ]
  },
  {
   "cell_type": "code",
   "execution_count": 25,
   "id": "fd7e4aea",
   "metadata": {},
   "outputs": [],
   "source": [
    "hawks_roster = ['Alvin Bailey','BJ Daniels','Bobby Wagner','Brock Coyle','Bruce Irvin','Bryan Walters',\n",
    "'Byron Maxwell','Chris Matthews','Christine Michael','Cliff Avril','Clint Gresham','Cooper Helfet',\n",
    " 'David King','DeShawn Shead','Demarcus Dobbs','Doug Baldwin','Earl Thomas','JR Sweezy','James Carpenter',\n",
    " 'Jeremy Lane','Jermaine Kearse','Jeron Johnson','Jon Ryan','Justin Britt','KJ Wright','Kam Chancellor',\n",
    " 'Keavon Milton','Kevin Norwood','Kevin Williams','Landon Cohen','Lemuel Jeanpierre','Luke Wilson',\n",
    " 'Malcolm Smith','Marcus Burley','Marshawn Lynch','Max Unger','Michael Bennett','Mike Morgan',\n",
    " 'OBrien Schofield','Patrick Lewis','Ricardo Lockette','Richard Sherman','Robert Turbin','Russell Okung',\n",
    " 'Russell Wilson','Steven Hauschka','Steven Terrell','Tarvaris Jackson','Tharold Simon','Tony McDaniel',\n",
    " 'Tony Moeaki','Will Tukuafu']"
   ]
  },
  {
   "cell_type": "code",
   "execution_count": 27,
   "id": "3f4a6cc5",
   "metadata": {},
   "outputs": [],
   "source": [
    "def preprocess_tweet(tweet):\n",
    "    return ' '.join(re.sub(\"(@[A-Za-z0-9]+)|([^0-9A-Za-z \\t])|(\\w+:\\/\\/\\S+)\", \" \", tweet).split())\n",
    "\n",
    "def get_sentiment(tweet):\n",
    "    analysis = TextBlob(tweet)\n",
    "    polarity = analysis.sentiment.polarity\n",
    "    subjectivity = analysis.sentiment.subjectivity\n",
    "    if polarity > 0:\n",
    "        return 1 , polarity, subjectivity\n",
    "    elif polarity == 0:\n",
    "        return 0, polarity, subjectivity\n",
    "    else:\n",
    "        return -1, polarity, subjectivity\n",
    "    \n",
    "    \n",
    "def get_sentiment_vader(tweet):\n",
    "    sentiment_analy = sid_obj.polarity_scores(tweet)\n",
    "    if sentiment['compound'] >= 0.05 :\n",
    "        return 1\n",
    "    elif sentiment['compound'] <= - 0.05 :\n",
    "        return -1\n",
    "    else :\n",
    "        return 0\n"
   ]
  },
  {
   "cell_type": "code",
   "execution_count": 37,
   "id": "79b5834d",
   "metadata": {},
   "outputs": [],
   "source": [
    "sentiment_analy = SentimentIntensityAnalyzer()\n",
    "\n",
    "def create_data(filename):\n",
    "    tmp = []\n",
    "    tweets = []\n",
    "    regx = r'(?<![@\\w])@(\\w{1,25})'\n",
    "    link_reg1 = r\"http\\S+\"\n",
    "    link_reg2 = r\"www.\\S+\"\n",
    "\n",
    "    tweet_columns = ['citation_date', 'user', 'tweet', 'sentiment', 'retweeted', 'followers_count',\n",
    "               'friends_count', 'location', 'possibly_sensitive',\n",
    "              'lang', 'filter_level', 'retweets', 'ranking_score', 'impressions', 'geo', 'lat', 'long', \n",
    "               'mentions', 'source', 'hasLink']\n",
    "\n",
    "    file = open(os.path.join(tweet_path, filename))\n",
    "    for line in file:\n",
    "        json_object = json.loads(line)\n",
    "\n",
    "        tmp = np.append(tmp, json_object['citation_date'])\n",
    "        tmp = np.append(tmp, json_object['tweet']['user']['id'])\n",
    "\n",
    "        raw_data = json_object['tweet']['text']\n",
    "        cleaned_tweet = preprocess_tweet(raw_data)\n",
    "    \n",
    "        tmp = np.append(tmp, cleaned_tweet)\n",
    "        \n",
    "        level, polarity, subjectivity = get_sentiment(cleaned_tweet)\n",
    "        \n",
    "\n",
    "        tmp = np.append(tmp, level)\n",
    "        \n",
    "        tmp = np.append(tmp, json_object['tweet']['retweeted'])\n",
    "        tmp = np.append(tmp, json_object['tweet']['user']['followers_count'])\n",
    "        tmp = np.append(tmp, json_object['tweet']['user']['friends_count'])\n",
    "        \n",
    "        location = '0'\n",
    "        if json_object['tweet']['user']['location']:\n",
    "            location = json_object['tweet']['user']['location']\n",
    "\n",
    "        tmp = np.append(tmp, location)\n",
    "        \n",
    "        \n",
    "        tmp = np.append(tmp, json_object['tweet']['possibly_sensitive'])\n",
    "        tmp = np.append(tmp, json_object['tweet']['lang'])\n",
    "        tmp = np.append(tmp, json_object['tweet']['filter_level'])\n",
    "        tmp = np.append(tmp, json_object['metrics']['citations']['total'])\n",
    "        tmp = np.append(tmp, json_object['metrics']['ranking_score'])\n",
    "        tmp = np.append(tmp, json_object['metrics']['impressions'])\n",
    "        tmp = np.append(tmp, json_object['tweet']['geo'])\n",
    "\n",
    "        latitude = None\n",
    "        longitude = None\n",
    "        if json_object['tweet']['coordinates']:\n",
    "            latitude = str(json_object['tweet']['coordinates'][list(json_object['tweet']['coordinates'].keys())[1]][1])\n",
    "            longitude = str(json_object['tweet']['coordinates'][list(json_object['tweet']['coordinates'].keys())[1]][0])\n",
    "\n",
    "        tmp = np.append(tmp, latitude)\n",
    "        tmp = np.append(tmp, longitude)\n",
    "\n",
    "        menti = re.findall(regx, json_object['tweet']['text'])\n",
    "        ment = ','.join(menti)\n",
    "\n",
    "        tmp = np.append(tmp, ment)\n",
    "        src = re.sub(\"<[^>]*>\", \"\", json_object['tweet']['source'])\n",
    "        tmp = np.append(tmp, src)\n",
    "\n",
    "        link1 = re.findall(link_reg1, json_object['tweet']['text'])\n",
    "        link2 = re.findall(link_reg2, json_object['tweet']['text'])\n",
    "        link = 0\n",
    "\n",
    "        if len(link1) or len(link2):\n",
    "            link = 1\n",
    "\n",
    "        tmp = np.append(tmp, link)\n",
    "\n",
    "\n",
    "        tweets.append(tmp)\n",
    "        tmp = []\n",
    "       \n",
    "    file.close()\n",
    "    return pd.DataFrame(tweets, columns=tweet_columns)"
   ]
  },
  {
   "cell_type": "code",
   "execution_count": 58,
   "id": "c3542703",
   "metadata": {},
   "outputs": [
    {
     "name": "stdout",
     "output_type": "stream",
     "text": [
      "gohawks data processed\n",
      "gopatriots data processed\n",
      "nfl data processed\n",
      "patriots data processed\n",
      "sb49 data processed\n",
      "superbowl data processed\n"
     ]
    }
   ],
   "source": [
    "# files = ['tweets_#gohawks.txt', 'tweets_#gopatriots.txt', 'tweets_#nfl.txt', 'tweets_#patriots.txt', \n",
    "#         'tweets_#sb49.txt', 'tweets_#superbowl.txt']\n",
    "\n",
    "\n",
    "gohawks_data = createData('tweets_#gohawks.txt')\n",
    "print(\"gohawks data processed\")\n",
    "gopatriots_data = createData('tweets_#gopatriots.txt')\n",
    "print(\"gopatriots data processed\")\n",
    "nfl_data = createData('tweets_#nfl.txt')\n",
    "print(\"nfl data processed\")\n",
    "patriots_data = createData('tweets_#patriots.txt')\n",
    "print(\"patriots data processed\")\n",
    "sb49_data = createData('tweets_#sb49.txt')\n",
    "print(\"sb49 data processed\")\n",
    "superbowl_data = createData('tweets_#superbowl.txt')\n",
    "print(\"superbowl data processed\")\n"
   ]
  },
  {
   "cell_type": "code",
   "execution_count": 59,
   "id": "236267ab",
   "metadata": {},
   "outputs": [
    {
     "name": "stdout",
     "output_type": "stream",
     "text": [
      "23511\n",
      "169122 None 440621 233022 743649 1213813\n"
     ]
    }
   ],
   "source": [
    "print(len(gohawks_data), print(len(gopatriots_data)), len(patriots_data), len(nfl_data), len(sb49_data), len(superbowl_data))"
   ]
  },
  {
   "cell_type": "code",
   "execution_count": null,
   "id": "1d68c544",
   "metadata": {},
   "outputs": [],
   "source": []
  },
  {
   "cell_type": "markdown",
   "id": "0d1de8a6",
   "metadata": {},
   "source": [
    "#### Arranging the tweet data according to the time stamp "
   ]
  },
  {
   "cell_type": "code",
   "execution_count": 60,
   "id": "8b342c5d",
   "metadata": {},
   "outputs": [],
   "source": [
    "gohawks_data['citation_date'] = pd.to_numeric(gohawks_data['citation_date']).astype(np.int64)\n",
    "gohawks_data = gohawks_data.sort_values(by = ['citation_date'], ignore_index=True)\n",
    "gohawks_data['citation_date'] = gohawks_data['citation_date'].apply(lambda x: datetime.datetime.fromtimestamp(x, pst_tz))\n",
    "\n",
    "\n",
    "gopatriots_data['citation_date'] = pd.to_numeric(gopatriots_data['citation_date']).astype(np.int64)\n",
    "gopatriots_data = gopatriots_data.sort_values(by = ['citation_date'], ignore_index=True)\n",
    "gopatriots_data['citation_date'] = gopatriots_data['citation_date'].apply(lambda x: datetime.datetime.fromtimestamp(x, pst_tz))\n",
    "\n",
    "\n",
    "nfl_data['citation_date'] = pd.to_numeric(nfl_data['citation_date']).astype(np.int64)\n",
    "nfl_data = nfl_data.sort_values(by = ['citation_date'], ignore_index=True)\n",
    "nfl_data['citation_date'] = nfl_data['citation_date'].apply(lambda x: datetime.datetime.fromtimestamp(x, pst_tz))\n",
    "\n",
    "patriots_data['citation_date'] = pd.to_numeric(patriots_data['citation_date']).astype(np.int64)\n",
    "patriots_data = patriots_data.sort_values(by = ['citation_date'], ignore_index=True)\n",
    "patriots_data['citation_date'] = patriots_data['citation_date'].apply(lambda x: datetime.datetime.fromtimestamp(x, pst_tz))\n",
    "\n",
    "sb49_data['citation_date'] = pd.to_numeric(sb49_data['citation_date']).astype(np.int64)\n",
    "sb49_data = sb49_data.sort_values(by = ['citation_date'], ignore_index=True)\n",
    "sb49_data['citation_date'] = sb49_data['citation_date'].apply(lambda x: datetime.datetime.fromtimestamp(x, pst_tz))\n",
    "\n",
    "superbowl_data['citation_date'] = pd.to_numeric(superbowl_data['citation_date']).astype(np.int64)\n",
    "superbowl_data = superbowl_data.sort_values(by = ['citation_date'], ignore_index=True)\n",
    "superbowl_data['citation_date'] = superbowl_data['citation_date'].apply(lambda x: datetime.datetime.fromtimestamp(x, pst_tz))"
   ]
  },
  {
   "cell_type": "code",
   "execution_count": 63,
   "id": "65b0d690",
   "metadata": {},
   "outputs": [],
   "source": [
    "def split_data_accd_kickoff_time(tweet_data, kickoff_time, end_time):\n",
    "    first_tweet = tweet_data.head(1)['citation_date']\n",
    "    last_tweet = tweet_data.tail(1)['citation_date']\n",
    "    \n",
    "    before = int(str(datetime.datetime.fromisoformat(kickoff_time) - first_tweet[0]).split(' ')[0])\n",
    "    after = int(str(last_tweet[len(tweet_data) - 1] - datetime.datetime.fromisoformat(end_time)).split(' ')[0])\n",
    "    \n",
    "    no_twt_in_game = tweet_data[(tweet_data['citation_date'] >= kickoff_time) & (tweet_data['citation_date'] <= end_time)]\n",
    "    \n",
    "    no_twt_before_game = tweet_data[(tweet_data['citation_date'] < kickoff_time)]\n",
    "\n",
    "    no_twt_after_game = tweet_data[(tweet_data['citation_date'] > end_time)]\n",
    "    \n",
    "    return no_twt_in_game, no_twt_before_game, no_twt_after_game, before, after\n"
   ]
  },
  {
   "cell_type": "code",
   "execution_count": 64,
   "id": "e5ccdc2b",
   "metadata": {},
   "outputs": [],
   "source": [
    "kickoff_time = '2015-02-01 15:00:00-08:00'\n",
    "end_time = '2015-02-01 20:00:00-08:00'\n",
    "\n",
    "gohawks_in_game, gohawks_before_game, gohawks_after_game, gohawks_before, gohawks_after = split_data_accd_kickoff_time(gohawks_data, kickoff_time, end_time)\n",
    "gopatriots_in_game, gopatriots_before_game, gopatriots_after_game, gopatriots_before, gopatriots_after = split_data_accd_kickoff_time(gopatriots_data, kickoff_time, end_time)"
   ]
  },
  {
   "cell_type": "code",
   "execution_count": 65,
   "id": "11b232e3",
   "metadata": {},
   "outputs": [
    {
     "data": {
      "image/png": "[encoded data removed]",
      "text/plain": [
       "<Figure size 640x480 with 1 Axes>"
      ]
     },
     "metadata": {},
     "output_type": "display_data"
    }
   ],
   "source": [
    "\n",
    "labels = ['before game', 'during game', 'after game']\n",
    "\n",
    "width = 0.2\n",
    "x = np.arange(0, 3)\n",
    "plt.bar(x + 0.2, [len(gohawks_before_game)/ gohawks_before, \n",
    "                  len(gohawks_in_game), len(gohawks_after_game)/ gohawks_after], width, color='blue')\n",
    "plt.bar(x - 0.2, [len(gopatriots_before_game)/ gopatriots_before , \n",
    "                  len(gopatriots_in_game), len(gopatriots_after_game)/gopatriots_after], width, color='red')\n",
    "\n",
    "plt.xticks(x, labels)\n",
    "plt.xlabel(\"Time\", size = 18)\n",
    "plt.ylabel(\"# of support tweets\", size = 18)\n",
    "plt.legend([\"#gopatriots\", \"#gohawks\"])\n",
    "plt.title(\"tweets before and after game (scaled by duration)\")\n",
    "plt.show()"
   ]
  },
  {
   "cell_type": "code",
   "execution_count": null,
   "id": "d910d458",
   "metadata": {},
   "outputs": [],
   "source": []
  },
  {
   "cell_type": "code",
   "execution_count": null,
   "id": "921f09f5",
   "metadata": {},
   "outputs": [],
   "source": []
  },
  {
   "cell_type": "code",
   "execution_count": null,
   "id": "da349512",
   "metadata": {},
   "outputs": [],
   "source": []
  },
  {
   "cell_type": "code",
   "execution_count": null,
   "id": "1efb42ad",
   "metadata": {},
   "outputs": [],
   "source": []
  }
 ],
 "metadata": {
  "kernelspec": {
   "display_name": "Python [conda env:ECE219_1]",
   "language": "python",
   "name": "conda-env-ECE219_1-py"
  },
  "language_info": {
   "codemirror_mode": {
    "name": "ipython",
    "version": 3
   },
   "file_extension": ".py",
   "mimetype": "text/x-python",
   "name": "python",
   "nbconvert_exporter": "python",
   "pygments_lexer": "ipython3",
   "version": "3.10.9"
  }
 },
 "nbformat": 4,
 "nbformat_minor": 5
}
