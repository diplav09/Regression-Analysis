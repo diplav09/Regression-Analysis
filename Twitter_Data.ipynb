{
 "cells": [
  {
   "cell_type": "code",
   "execution_count": 1,
   "id": "a3959295",
   "metadata": {},
   "outputs": [],
   "source": [
    "import numpy as np\n",
    "import matplotlib.pyplot as plt\n",
    "import os\n",
    "import pandas as pd\n",
    "import json\n",
    "import datetime\n",
    "import pytz\n",
    "import gc\n",
    "from textblob import TextBlob\n",
    "from datetime import date"
   ]
  },
  {
   "cell_type": "code",
   "execution_count": 2,
   "id": "ea3ac9ab",
   "metadata": {},
   "outputs": [
    {
     "name": "stderr",
     "output_type": "stream",
     "text": [
      "/Users/diplavsrivastava/opt/anaconda3/envs/ECE219_1/lib/python3.10/site-packages/tqdm/auto.py:22: TqdmWarning: IProgress not found. Please update jupyter and ipywidgets. See https://ipywidgets.readthedocs.io/en/stable/user_install.html\n",
      "  from .autonotebook import tqdm as notebook_tqdm\n"
     ]
    }
   ],
   "source": [
    "from vaderSentiment.vaderSentiment import SentimentIntensityAnalyzer\n",
    "from sklearn.feature_extraction.text import CountVectorizer\n",
    "from sklearn.feature_extraction.text import TfidfTransformer\n",
    "from nltk.stem import WordNetLemmatizer\n",
    "from nltk.stem import PorterStemmer\n",
    "from nltk.corpus import wordnet\n",
    "from nltk.corpus import stopwords\n",
    "from sklearn.feature_extraction import text\n",
    "import nltk\n",
    "import re\n",
    "from scipy.signal import find_peaks\n",
    "\n",
    "from summarizers import Summarizers\n"
   ]
  },
  {
   "cell_type": "code",
   "execution_count": 4,
   "id": "baba7602",
   "metadata": {},
   "outputs": [
    {
     "name": "stderr",
     "output_type": "stream",
     "text": [
      "The tokenizer class you load from this checkpoint is not the same type as the class this function is called from. It may result in unexpected tokenization. \n",
      "The tokenizer class you load from this checkpoint is 'BartTokenizer'. \n",
      "The class this function is called from is 'PreTrainedTokenizerFast'.\n"
     ]
    }
   ],
   "source": [
    "summarize = Summarizers('normal')"
   ]
  },
  {
   "cell_type": "code",
   "execution_count": 6,
   "id": "a0a0ab40",
   "metadata": {},
   "outputs": [],
   "source": [
    "tweet_path = '../ECE219_tweet_data/'\n",
    "pst_tz = pytz.timezone('America/Los_Angeles')"
   ]
  },
  {
   "cell_type": "markdown",
   "id": "1f1e1e05",
   "metadata": {},
   "source": [
    "### Q9.1) Report the following statistics for each hashtag"
   ]
  },
  {
   "cell_type": "code",
   "execution_count": 11,
   "id": "5a96f9be",
   "metadata": {},
   "outputs": [],
   "source": [
    "def get_avg_tweet_per_hour(data):\n",
    "    df = pd.DataFrame(data,columns=['timestamp'])\n",
    "    group = df.groupby(pd.Grouper(key = 'timestamp',freq = '60min'))\n",
    "    avg_tweet = len(data) / len(group)\n",
    "    return avg_tweet\n",
    "\n",
    "def get_avg_follower_per_tweet(data):\n",
    "    return np.mean(data)\n",
    "\n",
    "def get_avg_retweet_per_tweet(data):\n",
    "    return np.mean(data)\n",
    "\n",
    "def get_statistics(file):\n",
    "    time = []\n",
    "    num_retweet = []\n",
    "    num_follower = []\n",
    "    for line in open(file):\n",
    "        json_object = json.loads(line)\n",
    "        time.append(datetime.datetime.fromtimestamp(json_object['citation_date']))\n",
    "        num_retweet.append(json_object['metrics']['citations']['total'])\n",
    "        num_follower.append(json_object['author']['followers'])\n",
    "    avg_tweets = get_avg_tweet_per_hour(time)\n",
    "    avg_follower = get_avg_follower_per_tweet(num_follower)\n",
    "    avg_retweet = get_avg_retweet_per_tweet(num_retweet)\n",
    "    return avg_tweets, avg_follower, avg_retweet"
   ]
  },
  {
   "cell_type": "code",
   "execution_count": 12,
   "id": "f61a0eb2",
   "metadata": {},
   "outputs": [
    {
     "name": "stdout",
     "output_type": "stream",
     "text": [
      "Average number of tweets per hour #goHwaks:  292.09326424870466\n",
      "Average number of followers of users posting tweet #goHwaks:  2217.9237355281984\n",
      "Average number of retweets per tweet #goHwaks:  2.0132093991319877\n"
     ]
    }
   ],
   "source": [
    "filename = os.path.join(tweet_path, 'tweets_#gohawks.txt')\n",
    "\n",
    "avg_tweets, avg_follower, avg_retweet = get_statistics(filename)\n",
    "\n",
    "print(\"Average number of tweets per hour #goHwaks: \", avg_tweets)\n",
    "print(\"Average number of followers of users posting tweet #goHwaks: \", avg_follower)\n",
    "print(\"Average number of retweets per tweet #goHwaks: \", avg_retweet)"
   ]
  },
  {
   "cell_type": "code",
   "execution_count": 13,
   "id": "8f66d633",
   "metadata": {},
   "outputs": [
    {
     "name": "stdout",
     "output_type": "stream",
     "text": [
      "Average number of tweets per hour #gopatriots:  40.888695652173915\n",
      "Average number of followers of users posting tweet #gopatriots:  1427.2526051635405\n",
      "Average number of retweets per tweet #gopatriots:  1.4081919101697078\n"
     ]
    }
   ],
   "source": [
    "filename = os.path.join(tweet_path, 'tweets_#gopatriots.txt')\n",
    "\n",
    "avg_tweets, avg_follower, avg_retweet = get_statistics(filename)\n",
    "\n",
    "print(\"Average number of tweets per hour #gopatriots: \", avg_tweets)\n",
    "print(\"Average number of followers of users posting tweet #gopatriots: \", avg_follower)\n",
    "print(\"Average number of retweets per tweet #gopatriots: \", avg_retweet)"
   ]
  },
  {
   "cell_type": "code",
   "execution_count": 14,
   "id": "caaec031",
   "metadata": {},
   "outputs": [
    {
     "name": "stdout",
     "output_type": "stream",
     "text": [
      "Average number of tweets per hour #nfl:  396.97103918228277\n",
      "Average number of followers of users posting tweet #nfl:  4662.37544523693\n",
      "Average number of retweets per tweet #nfl:  1.5344602655543254\n"
     ]
    }
   ],
   "source": [
    "filename = os.path.join(tweet_path, 'tweets_#nfl.txt')\n",
    "\n",
    "avg_tweets, avg_follower, avg_retweet = get_statistics(filename)\n",
    "\n",
    "print(\"Average number of tweets per hour #nfl: \", avg_tweets)\n",
    "print(\"Average number of followers of users posting tweet #nfl: \", avg_follower)\n",
    "print(\"Average number of retweets per tweet #nfl: \", avg_retweet)"
   ]
  },
  {
   "cell_type": "code",
   "execution_count": 15,
   "id": "2e3611c0",
   "metadata": {},
   "outputs": [
    {
     "name": "stdout",
     "output_type": "stream",
     "text": [
      "Average number of tweets per hour #patriots:  750.6320272572402\n",
      "Average number of followers of users posting tweet #patriots:  3280.4635616550277\n",
      "Average number of retweets per tweet #patriots:  1.7852871288476946\n"
     ]
    }
   ],
   "source": [
    "\n",
    "filename = os.path.join(tweet_path, 'tweets_#patriots.txt')\n",
    "\n",
    "avg_tweets, avg_follower, avg_retweet = get_statistics(filename)\n",
    "\n",
    "print(\"Average number of tweets per hour #patriots: \", avg_tweets)\n",
    "print(\"Average number of followers of users posting tweet #patriots: \", avg_follower)\n",
    "print(\"Average number of retweets per tweet #patriots: \", avg_retweet)"
   ]
  },
  {
   "cell_type": "code",
   "execution_count": 16,
   "id": "35ad0cc2",
   "metadata": {},
   "outputs": [
    {
     "name": "stdout",
     "output_type": "stream",
     "text": [
      "Average number of tweets per hour #sb49:  1275.5557461406518\n",
      "Average number of followers of users posting tweet #sb49:  10374.160292019487\n",
      "Average number of retweets per tweet #sb49:  2.52713444111402\n"
     ]
    }
   ],
   "source": [
    "filename = os.path.join(tweet_path, 'tweets_#sb49.txt')\n",
    "\n",
    "avg_tweets, avg_follower, avg_retweet = get_statistics(filename)\n",
    "\n",
    "print(\"Average number of tweets per hour #sb49: \", avg_tweets)\n",
    "print(\"Average number of followers of users posting tweet #sb49: \", avg_follower)\n",
    "print(\"Average number of retweets per tweet #sb49: \", avg_retweet)"
   ]
  },
  {
   "cell_type": "code",
   "execution_count": 17,
   "id": "67f51698",
   "metadata": {},
   "outputs": [
    {
     "name": "stdout",
     "output_type": "stream",
     "text": [
      "Average number of tweets per hour #superbowl:  2067.824531516184\n",
      "Average number of followers of users posting tweet #superbowl:  8814.96799424623\n",
      "Average number of retweets per tweet #superbowls:  2.3911895819207736\n"
     ]
    }
   ],
   "source": [
    "filename = os.path.join(tweet_path, 'tweets_#superbowl.txt')\n",
    "\n",
    "avg_tweets, avg_follower, avg_retweet = get_statistics(filename)\n",
    "\n",
    "print(\"Average number of tweets per hour #superbowl: \", avg_tweets)\n",
    "print(\"Average number of followers of users posting tweet #superbowl: \", avg_follower)\n",
    "print(\"Average number of retweets per tweet #superbowls: \", avg_retweet)"
   ]
  },
  {
   "cell_type": "markdown",
   "id": "c42bd6db",
   "metadata": {},
   "source": [
    "### Question 9.2) Plot “number of tweets in hour” "
   ]
  },
  {
   "cell_type": "code",
   "execution_count": 21,
   "id": "f8dfcf66",
   "metadata": {},
   "outputs": [],
   "source": [
    "def get_number_tweets_in_hours(filename):\n",
    "    citation_dates = []\n",
    "    for line in open(filename):\n",
    "        json_object = json.loads(line)\n",
    "        citation_dates.append(json_object['citation_date'])\n",
    "    dates_frame = pd.DataFrame(sorted(citation_dates), columns = ['date'])\n",
    "    dates_frame['date'] = dates_frame['date'].apply(lambda x: datetime.datetime.fromtimestamp(x))\n",
    "    dates_frame['day'] = dates_frame['date'].apply(lambda x: str(x).split(' ')[0].split('-')[2]).astype('int')\n",
    "    dates_frame['hour'] = dates_frame['date'].apply(lambda x: str(x).split(' ')[1].split(':')[0]).astype('int')\n",
    "    \n",
    "    days = dates_frame['day'].to_numpy()\n",
    "    hour = dates_frame['hour'].to_numpy()\n",
    "    tweets_cnt = []\n",
    "    k = 0\n",
    "    while True:\n",
    "        if k >= len(days):\n",
    "            break\n",
    "\n",
    "        j = k\n",
    "\n",
    "        cnt = 0\n",
    "        curr_hour = hour[j]\n",
    "        curr_day = days[j]\n",
    "        while j < len(days) and curr_hour == hour[j] and curr_day == days[j]:\n",
    "            cnt+= 1\n",
    "            j+= 1\n",
    "\n",
    "        k = j\n",
    "\n",
    "        tweets_cnt.append(cnt)\n",
    "\n",
    "        if k >= len(days):\n",
    "            break\n",
    "    return tweets_cnt\n",
    "\n"
   ]
  },
  {
   "cell_type": "code",
   "execution_count": 22,
   "id": "90bbeab9",
   "metadata": {},
   "outputs": [],
   "source": [
    "filename = os.path.join(tweet_path, 'tweets_#superbowl.txt')\n",
    "tweets_cnt_superbowl = get_number_tweets_in_hours(filename)"
   ]
  },
  {
   "cell_type": "code",
   "execution_count": 24,
   "id": "df1ba095",
   "metadata": {},
   "outputs": [
    {
     "data": {
      "text/plain": [
       "Text(0, 0.5, 'Tweets per hour')"
      ]
     },
     "execution_count": 24,
     "metadata": {},
     "output_type": "execute_result"
    },
    {
     "data": {
      "image/png": "[encoded data removed]",
      "text/plain": [
       "<Figure size 1200x600 with 1 Axes>"
      ]
     },
     "metadata": {},
     "output_type": "display_data"
    }
   ],
   "source": [
    "fig = plt.figure()\n",
    "fig.set_figwidth(12)\n",
    "fig.set_figheight(6)\n",
    "\n",
    "plt.bar(np.arange(len(tweets_cnt_superbowl)), tweets_cnt_superbowl, width=3)\n",
    "plt.title(\"Number of tweets in hour #superbowl\", size = 12)\n",
    "plt.xlabel(\"Hours\", size = 12)\n",
    "plt.ylabel(\"Tweets per hour\", size = 12)"
   ]
  },
  {
   "cell_type": "code",
   "execution_count": 25,
   "id": "acce5d01",
   "metadata": {},
   "outputs": [],
   "source": [
    "filename = os.path.join(tweet_path, 'tweets_#nfl.txt')\n",
    "tweets_cnt_nfl = get_number_tweets_in_hours(filename)"
   ]
  },
  {
   "cell_type": "code",
   "execution_count": 26,
   "id": "e0b97f6f",
   "metadata": {},
   "outputs": [
    {
     "data": {
      "text/plain": [
       "Text(0, 0.5, 'Tweets per hour')"
      ]
     },
     "execution_count": 26,
     "metadata": {},
     "output_type": "execute_result"
    },
    {
     "data": {
      "image/png": "[encoded data removed]",
      "text/plain": [
       "<Figure size 1200x600 with 1 Axes>"
      ]
     },
     "metadata": {},
     "output_type": "display_data"
    }
   ],
   "source": [
    "fig = plt.figure()\n",
    "fig.set_figwidth(12)\n",
    "fig.set_figheight(6)\n",
    "\n",
    "plt.bar(np.arange(len(tweets_cnt_nfl)), tweets_cnt_nfl, width=3)\n",
    "plt.title(\"Number of tweets in hour #nfl\", size = 12)\n",
    "plt.xlabel(\"Hours\", size = 12)\n",
    "plt.ylabel(\"Tweets per hour\", size = 12)"
   ]
  },
  {
   "cell_type": "markdown",
   "id": "da8e4eb6",
   "metadata": {},
   "source": [
    "### Question 10) Define your own task"
   ]
  },
  {
   "cell_type": "code",
   "execution_count": null,
   "id": "0aff7d51",
   "metadata": {},
   "outputs": [],
   "source": []
  }
 ],
 "metadata": {
  "kernelspec": {
   "display_name": "Python [conda env:ECE219_1]",
   "language": "python",
   "name": "conda-env-ECE219_1-py"
  },
  "language_info": {
   "codemirror_mode": {
    "name": "ipython",
    "version": 3
   },
   "file_extension": ".py",
   "mimetype": "text/x-python",
   "name": "python",
   "nbconvert_exporter": "python",
   "pygments_lexer": "ipython3",
   "version": "3.10.9"
  }
 },
 "nbformat": 4,
 "nbformat_minor": 5
}
